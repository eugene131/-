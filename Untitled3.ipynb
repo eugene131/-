{
  "nbformat": 4,
  "nbformat_minor": 0,
  "metadata": {
    "colab": {
      "name": "Untitled3.ipynb",
      "private_outputs": true,
      "provenance": [],
      "mount_file_id": "1sM1rsc1ysyp2rQ98948WLwvX7wPR3l5A",
      "authorship_tag": "ABX9TyOMzVvNgO8DssCFkWHDPOmw",
      "include_colab_link": true
    },
    "kernelspec": {
      "name": "python3",
      "display_name": "Python 3"
    },
    "language_info": {
      "name": "python"
    }
  },
  "cells": [
    {
      "cell_type": "markdown",
      "metadata": {
        "id": "view-in-github",
        "colab_type": "text"
      },
      "source": [
        "<a href=\"https://colab.research.google.com/github/eugene131/-/blob/main/Untitled3.ipynb\" target=\"_parent\"><img src=\"https://colab.research.google.com/assets/colab-badge.svg\" alt=\"Open In Colab\"/></a>"
      ]
    },
    {
      "cell_type": "code",
      "execution_count": null,
      "metadata": {
        "id": "sXo9iZ9H5da_"
      },
      "outputs": [],
      "source": [
        "!pip install bs4\n",
        "!pip install requests\n",
        "!pip install selenium\n",
        "#코랩에서 구글드라이버 연동\n",
        "!apt-get update\n",
        "!apt install chromium-chromedriver\n",
        "#패키지 호출"
      ]
    },
    {
      "cell_type": "code",
      "source": [
        "from selenium import webdriver\n",
        "from selenium.webdriver.support.ui import Select\n",
        "from bs4 import BeautifulSoup\n",
        "import time\n",
        "from selenium.webdriver.common.keys import Keys\n",
        "from urllib.request import urlopen\n",
        "from urllib.parse import quote_plus\n",
        "from selenium.webdriver.common.by import By\n",
        "from selenium.webdriver.support.ui import WebDriverWait\n",
        "from selenium.webdriver.support import expected_conditions as EC\n",
        "import time\n",
        "from time import sleep\n",
        "import sys\n",
        "from selenium.webdriver import ActionChains\n",
        "\n",
        "chrome_options = webdriver.ChromeOptions()\n",
        "chrome_options.add_argument('--headless')\n",
        "chrome_options.add_argument('--no-sandbox')\n",
        "chrome_options.add_argument('--disable-dev-shm-usage')\n",
        "driver = webdriver.Chrome('chromedriver', options=chrome_options)"
      ],
      "metadata": {
        "id": "Ru9PqDcSfM8F"
      },
      "execution_count": null,
      "outputs": []
    },
    {
      "cell_type": "code",
      "source": [
        "driver.get('https://www.safekorea.go.kr/idsiSFK/neo/sfk/cs/contents/civil_defense/SDIJKM1401.html?menuSeq=56')#드라이버 연결\n",
        "driver.implicitly_wait(10)"
      ],
      "metadata": {
        "id": "sHWHjCf5sP5z"
      },
      "execution_count": null,
      "outputs": []
    },
    {
      "cell_type": "code",
      "source": [
        "res_resz=driver.page_source\n",
        "souprz = BeautifulSoup(res_resz,'html.parser')#해당 부분읽어서 html형식으로\n",
        "#print(souprz)\n",
        "rezion = souprz.find('select',title=\"시도선택\")#읽어 들인 것들 중 시도 선택 배너에 있는거 다 읽어들이기\n"
      ],
      "metadata": {
        "id": "eWXUY46uYB9J"
      },
      "execution_count": null,
      "outputs": []
    },
    {
      "cell_type": "code",
      "source": [
        "#for i in rezion:\n",
        "#print(rezion.get_text('\\n'))\n",
        "rezion_all=rezion.get_text('\\n').split('\\n')#시도 선택 배너에 있는 데이터 읽어들이기, 정리\n",
        "rezion_all.pop(0)\n",
        "rezion_all.pop(0)\n",
        "rezion_all.pop(0)\n",
        "print(rezion_all)"
      ],
      "metadata": {
        "id": "dtkqQtOtYBy6"
      },
      "execution_count": null,
      "outputs": []
    },
    {
      "cell_type": "code",
      "source": [
        "#각 시도 읽어들인거 하나씩 클릭해서 그 아래에 뜨는 시군구 선택 읽고 정리\n",
        "final_rezion=[]#최종적으로 첫번째에 시도, 그 다음부터 군구 있는 리스트 만들기위함\n",
        "for i in rezion_all:\n",
        "    #print(i)\n",
        "    driver.find_element(By.XPATH,'//*[@id=\"sbRnArea1\"]/option[text()=\"'+i+'\"]').click()\n",
        "    driver.implicitly_wait(100)\n",
        "    res2 = driver.page_source\n",
        "    sigoon = BeautifulSoup(res2, 'html.parser')\n",
        "    sigoon1 = sigoon.find('select', title=\"시군구선택\")\n",
        "    sleep(0.1)\n",
        "    sigoon_all=sigoon1.get_text('\\n').split('\\n')\n",
        "    for j in range(0,3):\n",
        "        sigoon_all.pop(0)\n",
        "    #print(sigoon_all)\n",
        "    a=[]\n",
        "    a=sigoon_all\n",
        "#    print(a)\n",
        "    final_rezion.append(a)\n",
        "print(rezion_all)\n",
        "final_rezion[14].pop(14)\n",
        "for i in final_rezion:\n",
        "    print(i)\n"
      ],
      "metadata": {
        "id": "UtrxemrzYBoL"
      },
      "execution_count": null,
      "outputs": []
    },
    {
      "cell_type": "code",
      "source": [
        "for i in range(0,17):\n",
        "    print(rezion_all[i])\n",
        "    print()\n",
        "    print()\n",
        "    print()\n",
        "    if i!=7:\n",
        "        for j in final_rezion[i]:\n",
        "            #print(j)\n",
        "        \n",
        "            driver.find_element(By.XPATH,'//*[@id=\"sbRnArea1\"]/option[text()=\"'+rezion_all[i]+'\"]').click()\n",
        "            driver.implicitly_wait(100)\n",
        "            \n",
        "            driver.find_element(By.XPATH,'//*[@id=\"sbRnArea2\"]/option[text()=\"'+j+'\"]').click()\n",
        "            driver.implicitly_wait(100)\n",
        "            driver.find_element(By.XPATH,'//*[@id=\"btnSearchOk\"]').click()\n",
        "            driver.implicitly_wait(100)\n",
        "            sleep(0.3)\n",
        "\n",
        "            res=driver.page_source\n",
        "            soup = BeautifulSoup(res, 'html.parser')\n",
        "            title = soup.find('title')\n",
        "            print(title.get_text())\n",
        "            p_data = soup.find('div',class_='content')#, class_='ellipsis mapView_link')\n",
        "            pp_data=p_data.find('tbody')\n",
        "            ppp_data=pp_data.find_all('tr')\n",
        "            #gen > tr:nth-child(1)\n",
        "            for r in ppp_data:\n",
        "                print(r.text.split(')'))    \n",
        "    else:\n",
        "        print(\"세종시 확인용\")\n",
        "        driver.find_element(By.XPATH,'//*[@id=\"sbRnArea1\"]/option[text()=\"세종특별자치시\"]').click()\n",
        "        driver.implicitly_wait(100)\n",
        "        driver.find_element(By.XPATH,'//*[@id=\"btnSearchOk\"]').click()\n",
        "        driver.implicitly_wait(100)\n",
        "        sleep(0.3)\n",
        "        res=driver.page_source\n",
        "        soup = BeautifulSoup(res, 'html.parser')\n",
        "        p_data = soup.find('div',class_='boardList_boxWrap')\n",
        "        ppp_data=p_data.find_all('tr')\n",
        "                    #gen > tr:nth-child(1)\n",
        "        for r in ppp_data:\n",
        "            print(r.text.split(')'))\n",
        "        "
      ],
      "metadata": {
        "id": "2WyHA1-S5sn_"
      },
      "execution_count": null,
      "outputs": []
    }
  ]
}